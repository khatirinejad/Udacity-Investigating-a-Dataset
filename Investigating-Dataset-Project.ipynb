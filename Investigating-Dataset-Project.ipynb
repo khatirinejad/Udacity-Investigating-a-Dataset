{
 "cells": [
  {
   "cell_type": "code",
   "execution_count": 1164,
   "metadata": {},
   "outputs": [],
   "source": [
    "import pandas as pd\n",
    "import numpy as np\n",
    "import seaborn as sns\n",
    "%matplotlib inline\n",
    "import matplotlib.pyplot as plt\n"
   ]
  },
  {
   "cell_type": "markdown",
   "metadata": {},
   "source": [
    "# Please find the data source below:\n",
    "Data Set: Gapminder World has been used for all three data sets.\n",
    "\n",
    "agri_land_area: Environment > Geography > Agriculture Land\n",
    "\n",
    "Forest_area: Environment > Geography > Forest Area\n",
    "\n",
    "yearly_co2_emissions_1000_tonnes: Environment > Emissions > CO2 emissions yearly\n",
    "\n",
    "# References: \n",
    "www.Stackflow.com"
   ]
  },
  {
   "cell_type": "markdown",
   "metadata": {},
   "source": [
    "# Introduction\n",
    "\n",
    "CO2 is one of the greenhouse gases which can increase by some primary sources such as agricultue and forestry (landuse activities). Conserving forests could cut CO2 emissions; on the other hand, CO2 could increase from agriculture activities such as livestock, agricultural soils, and rice production. \n",
    "In order to do the project three datasets are selected from the Environment dataset originated from the gapminder website.\n",
    "The three datasets namely are Agriculture Land, Forest Area and CO2 Emissions (dependent variables).\n",
    "Datasets of four countries were selected from 1991 to 2014 years (independent variables) to compare the CO2 emissions. All countries showed some increase in CO2 emissions. \n",
    "Deforestation and agriculture can influence CO2 emissions, so we looked at these two categories in Brazil to see if there is any correlation between them and the CO2 emissions. \n",
    "\n"
   ]
  },
  {
   "cell_type": "code",
   "execution_count": 1165,
   "metadata": {},
   "outputs": [],
   "source": [
    "#Reading data"
   ]
  },
  {
   "cell_type": "code",
   "execution_count": 1166,
   "metadata": {},
   "outputs": [],
   "source": [
    "df_agr = pd.read_csv('agri_land_area.csv')"
   ]
  },
  {
   "cell_type": "code",
   "execution_count": 1167,
   "metadata": {},
   "outputs": [],
   "source": [
    "df_CO2 = pd.read_csv('yearly_co2_emissions_1000_tonnes.csv')"
   ]
  },
  {
   "cell_type": "code",
   "execution_count": 1168,
   "metadata": {},
   "outputs": [],
   "source": [
    "df_forest = pd.read_csv('forest_area.csv')"
   ]
  },
  {
   "cell_type": "markdown",
   "metadata": {},
   "source": [
    "# Wrangling \n",
    "After reading data in the preceding cells, data were assessed(missing, duplicate, datatype and structure errors)."
   ]
  },
  {
   "cell_type": "code",
   "execution_count": 1169,
   "metadata": {},
   "outputs": [],
   "source": [
    "#Assessing "
   ]
  },
  {
   "cell_type": "code",
   "execution_count": 1170,
   "metadata": {},
   "outputs": [
    {
     "data": {
      "text/plain": [
       "False"
      ]
     },
     "execution_count": 1170,
     "metadata": {},
     "output_type": "execute_result"
    }
   ],
   "source": [
    "df_agr.isnull().sum().any()  #to look for missing data"
   ]
  },
  {
   "cell_type": "code",
   "execution_count": 1171,
   "metadata": {},
   "outputs": [
    {
     "data": {
      "text/plain": [
       "False"
      ]
     },
     "execution_count": 1171,
     "metadata": {},
     "output_type": "execute_result"
    }
   ],
   "source": [
    "df_agr.duplicated().any() #to look for duplicated data"
   ]
  },
  {
   "cell_type": "code",
   "execution_count": 1172,
   "metadata": {},
   "outputs": [
    {
     "name": "stdout",
     "output_type": "stream",
     "text": [
      "<class 'pandas.core.frame.DataFrame'>\n",
      "RangeIndex: 45 entries, 0 to 44\n",
      "Data columns (total 2 columns):\n",
      "Year      45 non-null int64\n",
      "Brazil    45 non-null float64\n",
      "dtypes: float64(1), int64(1)\n",
      "memory usage: 800.0 bytes\n"
     ]
    }
   ],
   "source": [
    "df_agr.info() # to check the data types"
   ]
  },
  {
   "cell_type": "code",
   "execution_count": 1173,
   "metadata": {},
   "outputs": [
    {
     "name": "stdout",
     "output_type": "stream",
     "text": [
      "<class 'pandas.core.frame.DataFrame'>\n",
      "RangeIndex: 26 entries, 0 to 25\n",
      "Data columns (total 2 columns):\n",
      "Year      26 non-null int64\n",
      "Brazil    26 non-null int64\n",
      "dtypes: int64(2)\n",
      "memory usage: 496.0 bytes\n"
     ]
    }
   ],
   "source": [
    "df_forest.info()"
   ]
  },
  {
   "cell_type": "markdown",
   "metadata": {},
   "source": [
    "# Cleaning: \n",
    "iloc is used to select data from 1991 to 2014.\n",
    "\n",
    "Country column needed to be renamed to Year for all three datasets."
   ]
  },
  {
   "cell_type": "code",
   "execution_count": 1174,
   "metadata": {},
   "outputs": [],
   "source": [
    "#Emission"
   ]
  },
  {
   "cell_type": "code",
   "execution_count": 1175,
   "metadata": {},
   "outputs": [],
   "source": [
    "df_CO2_edited = df_CO2.iloc[ 89: , : ]"
   ]
  },
  {
   "cell_type": "code",
   "execution_count": 1176,
   "metadata": {},
   "outputs": [],
   "source": [
    "df_CO2_edited.to_csv('yearly_co2.csv', index = False)"
   ]
  },
  {
   "cell_type": "code",
   "execution_count": 1177,
   "metadata": {},
   "outputs": [],
   "source": [
    "df_CO2 = pd.read_csv('yearly_co2.csv')"
   ]
  },
  {
   "cell_type": "code",
   "execution_count": 1178,
   "metadata": {},
   "outputs": [],
   "source": [
    "df_CO2= df_CO2_edited.rename(columns = {'country':'Year'})"
   ]
  },
  {
   "cell_type": "code",
   "execution_count": 1179,
   "metadata": {},
   "outputs": [
    {
     "data": {
      "text/plain": [
       "(24, 6)"
      ]
     },
     "execution_count": 1179,
     "metadata": {},
     "output_type": "execute_result"
    }
   ],
   "source": [
    "df_CO2.shape"
   ]
  },
  {
   "cell_type": "code",
   "execution_count": 1180,
   "metadata": {},
   "outputs": [],
   "source": [
    "#Forest"
   ]
  },
  {
   "cell_type": "code",
   "execution_count": 1181,
   "metadata": {},
   "outputs": [],
   "source": [
    "df_forest_edited = df_forest.iloc[ 1: 25 : ] "
   ]
  },
  {
   "cell_type": "code",
   "execution_count": 1182,
   "metadata": {},
   "outputs": [],
   "source": [
    "df_forest_edited.to_csv('df_forest.csv', index = False)"
   ]
  },
  {
   "cell_type": "code",
   "execution_count": 1183,
   "metadata": {},
   "outputs": [],
   "source": [
    "df_forest = pd.read_csv('df_forest.csv')"
   ]
  },
  {
   "cell_type": "code",
   "execution_count": 1184,
   "metadata": {},
   "outputs": [],
   "source": [
    "df_forest= df_forest_edited.rename(columns = lambda x : x.replace('Brazil','Forest'))"
   ]
  },
  {
   "cell_type": "code",
   "execution_count": 1199,
   "metadata": {},
   "outputs": [
    {
     "data": {
      "text/plain": [
       "(24, 2)"
      ]
     },
     "execution_count": 1199,
     "metadata": {},
     "output_type": "execute_result"
    }
   ],
   "source": [
    "df_forest.shape"
   ]
  },
  {
   "cell_type": "code",
   "execution_count": 1186,
   "metadata": {},
   "outputs": [],
   "source": [
    "#Agriculture Area"
   ]
  },
  {
   "cell_type": "code",
   "execution_count": 1187,
   "metadata": {},
   "outputs": [],
   "source": [
    "df_agr_edited = df_agr.iloc[ 20:44 : ] "
   ]
  },
  {
   "cell_type": "code",
   "execution_count": 1188,
   "metadata": {},
   "outputs": [],
   "source": [
    "df_agr_edited.to_csv('df_ag.csv', index = False)"
   ]
  },
  {
   "cell_type": "code",
   "execution_count": 1189,
   "metadata": {},
   "outputs": [],
   "source": [
    "df_agr = pd.read_csv('df_ag.csv')"
   ]
  },
  {
   "cell_type": "code",
   "execution_count": 1190,
   "metadata": {},
   "outputs": [],
   "source": [
    "df_agr= df_agr_edited.rename(columns = lambda x : x.replace('Brazil','Agriculture'))"
   ]
  },
  {
   "cell_type": "code",
   "execution_count": 1198,
   "metadata": {},
   "outputs": [
    {
     "data": {
      "text/plain": [
       "(24, 2)"
      ]
     },
     "execution_count": 1198,
     "metadata": {},
     "output_type": "execute_result"
    }
   ],
   "source": [
    "df_agr.shape"
   ]
  },
  {
   "cell_type": "markdown",
   "metadata": {},
   "source": [
    "# Exploratory Data Analysis"
   ]
  },
  {
   "cell_type": "markdown",
   "metadata": {},
   "source": [
    "The below three graphs represent the forest and agriculture area per year in Brazil and CO2 emission per year for the four selected countries. The first graph shows that the CO2 emission trends in all four countries increasing over time which could be caused by deforestation and agriculture activities.  \n"
   ]
  },
  {
   "cell_type": "code",
   "execution_count": 1212,
   "metadata": {},
   "outputs": [
    {
     "data": {
      "image/png": "[encoded data removed]",
      "text/plain": [
       "<Figure size 432x288 with 1 Axes>"
      ]
     },
     "metadata": {
      "needs_background": "light"
     },
     "output_type": "display_data"
    }
   ],
   "source": [
    "x = df_CO2['Year']\n",
    "y = df_CO2['Brazil']\n",
    "y1 = df_CO2['United States']\n",
    "y2 = df_CO2['China']\n",
    "y3 = df_CO2['Russia']\n",
    "y4 = df_CO2['Germany']\n",
    " \n",
    "plt.title('Figure 1: CO2 Emission per year by country')\n",
    "plt.xlabel(\"Year\")\n",
    "plt.ylabel(\"CO2 Emission(1000 tonnes)\")\n",
    "\n",
    "plt.plot(x,y, c='g', alpha=0.9, label = 'Brazil')\n",
    "plt.plot(x,y1,c='m', alpha=0.9, label = 'United States')\n",
    "plt.plot(x,y2,c='k', alpha=0.9, label = 'China')\n",
    "plt.plot(x,y3,c='r', alpha=0.9, label = 'Russia')\n",
    "plt.legend()\n",
    "\n",
    "matplotlib.pyplot.show()"
   ]
  },
  {
   "cell_type": "markdown",
   "metadata": {},
   "source": [
    "Figure 2 shows forest land is decreasing rapidly every year in Brazil which could lead to more CO2 emissions.\n",
    "Figure 3 illustrates that agriculture land in Brazil over time is rapidly booming which could also be considered another resean in CO2 emission increase. \n",
    "Overall by looking at the three graphs, we can answer to the question that how deforestation and agriculture are associated to CO2 emission."
   ]
  },
  {
   "cell_type": "code",
   "execution_count": 1206,
   "metadata": {},
   "outputs": [
    {
     "data": {
      "image/png": "[encoded data removed]",
      "text/plain": [
       "<Figure size 432x288 with 1 Axes>"
      ]
     },
     "metadata": {
      "needs_background": "light"
     },
     "output_type": "display_data"
    }
   ],
   "source": [
    "y = df_forest['Forest']\n",
    "x = df_forest['Year']\n",
    "plt.title('Figure 2: Forest Area per year in Brazil')\n",
    "plt.xlabel(\"Year\")\n",
    "plt.ylabel(\"Forest Area sq/km\")\n",
    "N=24\n",
    "colors=np.random.rand(N)\n",
    "area=100\n",
    "matplotlib.pyplot.scatter(x,y, s=area, c=colors, alpha=0.4, marker = '$O$')\n",
    "plt.plot(x,y)\n",
    "matplotlib.pyplot.show()\n"
   ]
  },
  {
   "cell_type": "code",
   "execution_count": 1195,
   "metadata": {},
   "outputs": [
    {
     "data": {
      "image/png": "[encoded data removed]",
      "text/plain": [
       "<Figure size 432x288 with 1 Axes>"
      ]
     },
     "metadata": {
      "needs_background": "light"
     },
     "output_type": "display_data"
    }
   ],
   "source": [
    "x = df_agr['Year']\n",
    "y = df_agr['Agriculture']\n",
    "plt.title('Agriculture Land per year in Brazil')\n",
    "plt.xlabel(\"Year\")\n",
    "plt.ylabel(\"Agriculture Land (% of land area)\")\n",
    "area=100\n",
    "matplotlib.pyplot.scatter(x,y, s=area, c='b', alpha=0.4, marker = '$O$')\n",
    "plt.plot(x,y)\n",
    "matplotlib.pyplot.show()"
   ]
  }
 ],
 "metadata": {
  "kernelspec": {
   "display_name": "Python 3",
   "language": "python",
   "name": "python3"
  },
  "language_info": {
   "codemirror_mode": {
    "name": "ipython",
    "version": 3
   },
   "file_extension": ".py",
   "mimetype": "text/x-python",
   "name": "python",
   "nbconvert_exporter": "python",
   "pygments_lexer": "ipython3",
   "version": "3.7.7"
  }
 },
 "nbformat": 4,
 "nbformat_minor": 2
}
